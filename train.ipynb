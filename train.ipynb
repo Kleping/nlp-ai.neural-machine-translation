{
 "cells": [
  {
   "cell_type": "code",
   "execution_count": null,
   "outputs": [],
   "source": [
    "import numpy as np\n",
    "import tensorflow as tf\n",
    "import random as rn"
   ],
   "metadata": {
    "collapsed": false,
    "pycharm": {
     "name": "#%%\n"
    }
   }
  },
  {
   "cell_type": "code",
   "execution_count": null,
   "outputs": [],
   "source": [
    "batch_size = 64  # Batch size for training.\n",
    "validation_batch_size = 40\n",
    "epochs = 1  # Number of epochs to train for.\n",
    "latent_dim = 256  # Latent dimensionality of the encoding space.\n",
    "num_single_cluster_pairs = 10000  # Number of samples to train on.\n",
    "# Path to the data txt file on disk.\n",
    "data_path = 'data/pnc-eng.txt'\n",
    "model_name = 'seq2seq_with_attention'\n",
    "validation_split = .2\n",
    "num_limit_clusters = 2\n",
    "num_train_cluster = int(num_single_cluster_pairs * (1. - validation_split))\n",
    "num_valid_cluster = num_single_cluster_pairs - num_train_cluster"
   ],
   "metadata": {
    "collapsed": false,
    "pycharm": {
     "name": "#%%\n"
    }
   }
  },
  {
   "cell_type": "code",
   "execution_count": null,
   "outputs": [],
   "source": [
    "# Vectorization of the data.\n",
    "input_characters = set()\n",
    "target_characters = set()\n",
    "with open(data_path, \"r\", encoding=\"utf-8\") as f:\n",
    "    pairs = f.read().split(\"\\n\")\n",
    "    pairs = pairs[:min(len(pairs), num_limit_clusters * num_single_cluster_pairs)]\n",
    "num_total_pairs = len(pairs)\n",
    "num_residue_pairs = num_total_pairs % num_single_cluster_pairs\n",
    "num_clusters = num_total_pairs // num_single_cluster_pairs + (1 if num_residue_pairs != 0 else 0)\n",
    "max_source_seq_len = 0\n",
    "max_target_seq_len = 0\n",
    "for pair in pairs:\n",
    "    source_text, target_text = pair.split(\"\\t\")\n",
    "    # We use \"tab\" as the \"start sequence\" character\n",
    "    # for the targets, and \"\\n\" as \"end sequence\" character.\n",
    "    target_text = \"\\t\" + target_text + \"\\n\"\n",
    "\n",
    "    for char in source_text:\n",
    "        if char not in input_characters:\n",
    "            input_characters.add(char)\n",
    "    for char in target_text:\n",
    "        if char not in target_characters:\n",
    "            target_characters.add(char)\n",
    "\n",
    "    if len(source_text) > max_source_seq_len:\n",
    "        max_source_seq_len = len(source_text)\n",
    "    if len(target_text) > max_target_seq_len:\n",
    "        max_target_seq_len = len(target_text)\n",
    "\n",
    "rn.shuffle(pairs)\n",
    "pairs_validation = pairs[-int(validation_split * num_total_pairs):]\n",
    "pairs_train = pairs[:int(num_total_pairs-len(pairs_validation))]\n",
    "\n",
    "input_characters = sorted(list(input_characters))\n",
    "target_characters = sorted(list(target_characters))\n",
    "\n",
    "num_source_tokens = len(input_characters)\n",
    "num_target_tokens = len(target_characters)\n",
    "\n",
    "print(\"Number of residue pairs:\", num_residue_pairs)\n",
    "print(\"Number of clusters:\", num_clusters)\n",
    "print(\"Number of samples:\", num_total_pairs)\n",
    "print(\"Number of unique input tokens:\", num_source_tokens)\n",
    "print(\"Number of unique output tokens:\", num_target_tokens)\n",
    "print(\"Max sequence length:\", max_source_seq_len)\n",
    "\n",
    "\n",
    "def get_data_cluster(i_cluster, n_cluster, pairs):\n",
    "    source_texts = []\n",
    "    target_texts = []\n",
    "    cluster_from = i_cluster * n_cluster\n",
    "    cluster_to = min(cluster_from + n_cluster, num_total_pairs)\n",
    "\n",
    "    if i_cluster == 0:\n",
    "        rn.shuffle(pairs)\n",
    "\n",
    "    for pair in pairs[cluster_from: cluster_to]:\n",
    "        source_text, target_text = pair.split(\"\\t\")\n",
    "        # We use \"tab\" as the \"start sequence\" character\n",
    "        # for the targets, and \"\\n\" as \"end sequence\" character.\n",
    "        target_text = \"\\t\" + target_text + \"\\n\"\n",
    "        source_texts.append(source_text)\n",
    "        target_texts.append(target_text)\n",
    "\n",
    "    if cluster_to % n_cluster != 0:\n",
    "        pairs_residue = rn.sample(pairs[:cluster_from], n_cluster - num_residue_pairs)\n",
    "        for pair in pairs_residue:\n",
    "            source_text, target_text = pair.split(\"\\t\")\n",
    "            # We use \"tab\" as the \"start sequence\" character\n",
    "            # for the targets, and \"\\n\" as \"end sequence\" character.\n",
    "            target_text = \"\\t\" + target_text + \"\\n\"\n",
    "            source_texts.append(source_text)\n",
    "            target_texts.append(target_text)\n",
    "\n",
    "    input_token_index = dict([(char, i) for i, char in enumerate(input_characters)])\n",
    "    target_token_index = dict([(char, i) for i, char in enumerate(target_characters)])\n",
    "\n",
    "    encoder_input_data = np.zeros(\n",
    "        (len(source_texts), max_source_seq_len, num_source_tokens), dtype=\"float32\"\n",
    "    )\n",
    "    decoder_input_data = np.zeros(\n",
    "        (len(target_texts), max_target_seq_len, num_target_tokens), dtype=\"float32\"\n",
    "    )\n",
    "    decoder_target_data = np.zeros(\n",
    "        (len(target_texts), max_target_seq_len, num_target_tokens), dtype=\"float32\"\n",
    "    )\n",
    "\n",
    "    for i, (source_text, target_text) in enumerate(zip(source_texts, target_texts)):\n",
    "        for t, char in enumerate(source_text):\n",
    "            encoder_input_data[i, t, input_token_index[char]] = 1.0\n",
    "        encoder_input_data[i, t + 1 :, input_token_index[\" \"]] = 1.0\n",
    "        for t, char in enumerate(target_text):\n",
    "            # decoder_target_data is ahead of decoder_input_data by one timestep\n",
    "            decoder_input_data[i, t, target_token_index[char]] = 1.0\n",
    "            if t > 0:\n",
    "                # decoder_target_data will be ahead by one timestep\n",
    "                # and will not include the start character.\n",
    "                decoder_target_data[i, t - 1, target_token_index[char]] = 1.0\n",
    "        decoder_input_data[i, t + 1 :, target_token_index[\" \"]] = 1.0\n",
    "        decoder_target_data[i, t:, target_token_index[\" \"]] = 1.0\n",
    "\n",
    "    return [encoder_input_data, decoder_input_data], decoder_target_data"
   ],
   "metadata": {
    "collapsed": false,
    "pycharm": {
     "name": "#%%\n"
    }
   }
  },
  {
   "cell_type": "code",
   "execution_count": null,
   "outputs": [],
   "source": [
    "\n",
    "# Define an input sequence and process it.\n",
    "encoder_inputs = tf.keras.Input(shape=(None, num_source_tokens))\n",
    "bidirectional = tf.keras.layers.Bidirectional\n",
    "encoder = bidirectional(tf.keras.layers.LSTM(latent_dim, return_sequences=True, return_state=True))\n",
    "encoder_stack_h, forward_last_h, forward_last_c, backward_last_h, backward_last_c = encoder(encoder_inputs)\n",
    "\n",
    "encoder_last_h = tf.keras.layers.Concatenate()([forward_last_h, backward_last_h])\n",
    "encoder_last_c = tf.keras.layers.Concatenate()([forward_last_c, backward_last_c])\n",
    "\n",
    "# We discard `encoder_outputs` and only keep the states.\n",
    "encoder_states = [encoder_last_h, encoder_last_c]\n",
    "\n",
    "# Set up the decoder, using `encoder_states` as initial state.\n",
    "decoder_inputs = tf.keras.Input(shape=(None, num_target_tokens))\n",
    "\n",
    "# We set up our decoder to return full output sequences,\n",
    "# and to return internal states as well. We don't use the\n",
    "# return states in the training model, but we will use them in inference.\n",
    "decoder = tf.keras.layers.LSTM(latent_dim*2, return_sequences=True, return_state=True)\n",
    "decoder_stack_h, _, _ = decoder(decoder_inputs, initial_state=encoder_states)\n",
    "\n",
    "context = tf.keras.layers.Attention()([decoder_stack_h, encoder_stack_h])\n",
    "decoder_concat_input = tf.keras.layers.concatenate([context, decoder_stack_h])\n",
    "\n",
    "dense = tf.keras.layers.Dense(num_target_tokens, activation='softmax')\n",
    "decoder_stack_h = tf.keras.layers.TimeDistributed(dense)(decoder_concat_input)\n",
    "\n",
    "# decoder_dense = tf.keras.layers.Dense(num_decoder_tokens, activation=\"softmax\")\n",
    "# decoder_outputs = decoder_dense(decoder_outputs)\n",
    "\n",
    "# Define the model that will turn\n",
    "# `encoder_input_data` & `decoder_input_data` into `decoder_target_data`\n",
    "model = tf.keras.Model([encoder_inputs, decoder_inputs], decoder_stack_h)"
   ],
   "metadata": {
    "collapsed": false,
    "pycharm": {
     "name": "#%%\n"
    }
   }
  },
  {
   "cell_type": "code",
   "execution_count": null,
   "outputs": [],
   "source": [
    "model.compile(\n",
    "    optimizer=\"rmsprop\", loss=\"categorical_crossentropy\", metrics=[\"accuracy\"]\n",
    ")\n",
    "# model.fit(\n",
    "#     [encoder_input_data, decoder_input_data],\n",
    "#     decoder_target_data,\n",
    "#     batch_size=batch_size,\n",
    "#     epochs=epochs,\n",
    "#     validation_split=validation_split,\n",
    "# )\n",
    "\n",
    "for epoch in range(epochs):\n",
    "    for i_cluster in range(num_clusters):\n",
    "        if i_cluster == 0:\n",
    "            print(str(epoch+1) + '/' + str(epochs), 'epochs')\n",
    "        x, Y = get_data_cluster(i_cluster, num_train_cluster, pairs_train)\n",
    "        x_validation, Y_validation = get_data_cluster(i_cluster, num_valid_cluster, pairs_validation)\n",
    "        model.fit(\n",
    "            x, Y,\n",
    "            validation_data=(x_validation, Y_validation),\n",
    "            batch_size=batch_size,\n",
    "            epochs=1,\n",
    "            shuffle=True,\n",
    "        )\n",
    "\n",
    "# Save model\n",
    "model.save(\"models/\" + model_name + \".h5\")"
   ],
   "metadata": {
    "collapsed": false,
    "pycharm": {
     "name": "#%%\n"
    }
   }
  }
 ],
 "metadata": {
  "language_info": {
   "codemirror_mode": {
    "name": "ipython",
    "version": 2
   },
   "file_extension": ".py",
   "mimetype": "text/x-python",
   "name": "python",
   "nbconvert_exporter": "python",
   "pygments_lexer": "ipython2",
   "version": "2.7.6"
  },
  "kernelspec": {
   "name": "python3",
   "language": "python",
   "display_name": "Python 3"
  },
  "pycharm": {
   "stem_cell": {
    "cell_type": "raw",
    "source": [],
    "metadata": {
     "collapsed": false
    }
   }
  }
 },
 "nbformat": 4,
 "nbformat_minor": 0
}